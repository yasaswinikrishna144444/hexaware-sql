{
 "cells": [
  {
   "cell_type": "code",
   "id": "initial_id",
   "metadata": {
    "collapsed": true,
    "ExecuteTime": {
     "end_time": "2025-06-20T11:36:19.382608Z",
     "start_time": "2025-06-20T11:36:19.356504Z"
    }
   },
   "source": [
    "# ---------------- Student Classes ----------------\n",
    "class Student:\n",
    "    def __init__(self, student_id, student_name, marks):\n",
    "        self.student_id = student_id\n",
    "        self.student_name = student_name\n",
    "        self.marks = marks\n",
    "\n",
    "    def display(self):\n",
    "        print(\"Student ID:\", self.student_id)\n",
    "        print(\"Student Name:\", self.student_name)\n",
    "        print(\"Marks:\", self.marks)\n",
    "\n",
    "class StudentManager:\n",
    "    def __init__(self):\n",
    "        self.students = {}\n",
    "\n",
    "    def add_student(self, student: Student):\n",
    "        if student.student_id in self.students:\n",
    "            print(f\"Student ID {student.student_id} already exists.\")\n",
    "        else:\n",
    "            self.students[student.student_id] = student\n",
    "            print(f\"Student {student.student_name} added.\")\n",
    "\n",
    "    def get_student(self, student_id):\n",
    "        return self.students.get(student_id, None)\n",
    "\n",
    "    def get_top_students(self, criteria):\n",
    "        return [s for s in self.students.values() if s.marks > criteria]\n",
    "\n",
    "print(\"------ Student Info ------\")\n",
    "student_manager = StudentManager()\n",
    "student_list = [\n",
    "    Student(101, \"Yasaswini Krishna\", 89),\n",
    "    Student(102, \"Anika Singh\", 74),\n",
    "    Student(104, \"Vimala Sharma\", 91),\n",
    "    Student(105, \"Greeshma Reddy\", 85)\n",
    "]\n",
    "\n",
    "for student in student_list:\n",
    "    student_manager.add_student(student)\n",
    "\n",
    "# Display all students\n",
    "for s in student_manager.students.values():\n",
    "    s.display()\n",
    "\n",
    "# Top students\n",
    "print(\"\\nTop Students with marks > 80:\")\n",
    "top_students = student_manager.get_top_students(80)\n",
    "for ts in top_students:\n",
    "    ts.display()\n",
    "\n"
   ],
   "outputs": [
    {
     "name": "stdout",
     "output_type": "stream",
     "text": [
      "------ Student Info ------\n",
      "Student Yasaswini Krishna added.\n",
      "Student Anika Singh added.\n",
      "Student Vimala Sharma added.\n",
      "Student Greeshma Reddy added.\n",
      "Student ID: 101\n",
      "Student Name: Yasaswini Krishna\n",
      "Marks: 89\n",
      "Student ID: 102\n",
      "Student Name: Anika Singh\n",
      "Marks: 74\n",
      "Student ID: 104\n",
      "Student Name: Vimala Sharma\n",
      "Marks: 91\n",
      "Student ID: 105\n",
      "Student Name: Greeshma Reddy\n",
      "Marks: 85\n",
      "\n",
      "Top Students with marks > 80:\n",
      "Student ID: 101\n",
      "Student Name: Yasaswini Krishna\n",
      "Marks: 89\n",
      "Student ID: 104\n",
      "Student Name: Vimala Sharma\n",
      "Marks: 91\n",
      "Student ID: 105\n",
      "Student Name: Greeshma Reddy\n",
      "Marks: 85\n"
     ]
    }
   ],
   "execution_count": 1
  },
  {
   "metadata": {
    "ExecuteTime": {
     "end_time": "2025-06-20T11:36:19.883021Z",
     "start_time": "2025-06-20T11:36:19.872788Z"
    }
   },
   "cell_type": "code",
   "source": [
    "class Rectangle:\n",
    "    def __init__(self, length, width):\n",
    "        self.length = length\n",
    "        self.width = width\n",
    "\n",
    "    def compute_area(self):\n",
    "        return self.length * self.width\n",
    "\n",
    "class RectangleManager:\n",
    "    def __init__(self):\n",
    "        self.rectangles = []\n",
    "\n",
    "    def add_rectangle(self, rectangle: Rectangle):\n",
    "        self.rectangles.append(rectangle)\n",
    "\n",
    "    def display_areas(self):\n",
    "        print(\"\\n------ Rectangle Area ------\")\n",
    "        for i, r in enumerate(self.rectangles, start=1):\n",
    "            print(f\"Rectangle {i} -> Length: {r.length}, Width: {r.width}, Area: {r.compute_area()}\")\n",
    "\n",
    "rect_manager = RectangleManager()\n",
    "rect1 = Rectangle(5, 4)\n",
    "rect2 = Rectangle(7, 3)\n",
    "rect_manager.add_rectangle(rect1)\n",
    "rect_manager.add_rectangle(rect2)\n",
    "rect_manager.display_areas()\n",
    "\n"
   ],
   "id": "3d299a81329aa2ad",
   "outputs": [
    {
     "name": "stdout",
     "output_type": "stream",
     "text": [
      "\n",
      "------ Rectangle Area ------\n",
      "Rectangle 1 -> Length: 5, Width: 4, Area: 20\n",
      "Rectangle 2 -> Length: 7, Width: 3, Area: 21\n"
     ]
    }
   ],
   "execution_count": 2
  },
  {
   "metadata": {
    "ExecuteTime": {
     "end_time": "2025-06-20T11:36:20.004766Z",
     "start_time": "2025-06-20T11:36:19.992861Z"
    }
   },
   "cell_type": "code",
   "source": [
    "\n",
    "class Employee:\n",
    "    def __init__(self, emp_id, name, salary, department):\n",
    "        self.emp_id = emp_id\n",
    "        self.name = name\n",
    "        self.salary = salary\n",
    "        self.department = department\n",
    "\n",
    "    def calculate_overtime(self, hours, rate_per_hour):\n",
    "        return hours * rate_per_hour\n",
    "\n",
    "class EmployeeManager:\n",
    "    def __init__(self):\n",
    "        self.employees = {}\n",
    "\n",
    "    def add_employee(self, emp: Employee):\n",
    "        self.employees[emp.emp_id] = emp\n",
    "\n",
    "    def display_overtime(self, emp_id, hours, rate):\n",
    "        emp = self.employees.get(emp_id)\n",
    "        if emp:\n",
    "            print(\"\\n------ Employee Overtime ------\")\n",
    "            print(\"Employee Name:\", emp.name)\n",
    "            print(\"Overtime Pay:\", emp.calculate_overtime(hours, rate))\n",
    "        else:\n",
    "            print(f\"No employee with ID {emp_id}\")\n",
    "\n",
    "emp_manager = EmployeeManager()\n",
    "emp1 = Employee(201, \"Shreya\", 50000, \"HR\")\n",
    "emp2 = Employee(202, \"Vikram\", 60000, \"Finance\")\n",
    "emp_manager.add_employee(emp1)\n",
    "emp_manager.add_employee(emp2)\n",
    "emp_manager.display_overtime(201, 5, 200)\n",
    "\n"
   ],
   "id": "a6a45d72ba6b5d5d",
   "outputs": [
    {
     "name": "stdout",
     "output_type": "stream",
     "text": [
      "\n",
      "------ Employee Overtime ------\n",
      "Employee Name: Shreya\n",
      "Overtime Pay: 1000\n"
     ]
    }
   ],
   "execution_count": 3
  },
  {
   "metadata": {
    "ExecuteTime": {
     "end_time": "2025-06-20T11:36:20.119480Z",
     "start_time": "2025-06-20T11:36:20.111918Z"
    }
   },
   "cell_type": "code",
   "source": [
    "\n",
    "class ListProcessor:\n",
    "    def __init__(self):\n",
    "        self.lists = []\n",
    "\n",
    "    def add_list(self, numbers):\n",
    "        self.lists.append(numbers)\n",
    "\n",
    "    def process_all(self):\n",
    "        print(\"\\n------ Sum & Product of Lists ------\")\n",
    "        for i, nums in enumerate(self.lists, start=1):\n",
    "            total_sum = sum(nums)\n",
    "            product = 1\n",
    "            for n in nums:\n",
    "                product *= n\n",
    "            print(f\"List {i}: {nums}\")\n",
    "            print(f\"  Sum: {total_sum}\")\n",
    "            print(f\"  Product: {product}\")\n",
    "\n",
    "list_proc = ListProcessor()\n",
    "list_proc.add_list([2, 3, 4])\n",
    "list_proc.add_list([1, 5, 6])\n",
    "list_proc.process_all()\n",
    "\n"
   ],
   "id": "565732f247620f0a",
   "outputs": [
    {
     "name": "stdout",
     "output_type": "stream",
     "text": [
      "\n",
      "------ Sum & Product of Lists ------\n",
      "List 1: [2, 3, 4]\n",
      "  Sum: 9\n",
      "  Product: 24\n",
      "List 2: [1, 5, 6]\n",
      "  Sum: 12\n",
      "  Product: 30\n"
     ]
    }
   ],
   "execution_count": 4
  },
  {
   "metadata": {
    "ExecuteTime": {
     "end_time": "2025-06-20T11:36:20.225974Z",
     "start_time": "2025-06-20T11:36:20.216572Z"
    }
   },
   "cell_type": "code",
   "source": [
    "\n",
    "class StringProcessor:\n",
    "    def __init__(self):\n",
    "        self.strings = []\n",
    "\n",
    "    def add_string(self, s):\n",
    "        self.strings.append(s)\n",
    "\n",
    "    def display_reversed(self):\n",
    "        print(\"\\n------ String Reversal ------\")\n",
    "        for i, s in enumerate(self.strings, start=1):\n",
    "            print(f\"String {i}: {s} -> Reversed: {s[::-1]}\")\n",
    "\n",
    "str_proc = StringProcessor()\n",
    "str_proc.add_string(\"Hexaware\")\n",
    "str_proc.add_string(\"Yasaswini\")\n",
    "str_proc.display_reversed()\n"
   ],
   "id": "f35d6f972e4da8d2",
   "outputs": [
    {
     "name": "stdout",
     "output_type": "stream",
     "text": [
      "\n",
      "------ String Reversal ------\n",
      "String 1: Hexaware -> Reversed: erawaxeH\n",
      "String 2: Yasaswini -> Reversed: iniwsasaY\n"
     ]
    }
   ],
   "execution_count": 5
  }
 ],
 "metadata": {
  "kernelspec": {
   "display_name": "Python 3",
   "language": "python",
   "name": "python3"
  },
  "language_info": {
   "codemirror_mode": {
    "name": "ipython",
    "version": 2
   },
   "file_extension": ".py",
   "mimetype": "text/x-python",
   "name": "python",
   "nbconvert_exporter": "python",
   "pygments_lexer": "ipython2",
   "version": "2.7.6"
  }
 },
 "nbformat": 4,
 "nbformat_minor": 5
}
