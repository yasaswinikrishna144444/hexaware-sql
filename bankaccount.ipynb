{
 "cells": [
  {
   "cell_type": "code",
   "id": "initial_id",
   "metadata": {
    "collapsed": true,
    "ExecuteTime": {
     "end_time": "2025-06-20T06:00:42.454237Z",
     "start_time": "2025-06-20T06:00:42.434241Z"
    }
   },
   "source": [
    "# Base Class\n",
    "class BankAccount:\n",
    "    def __init__(self, acc_holder, balance=0):\n",
    "        self.acc_holder = acc_holder\n",
    "        self._balance = balance\n",
    "\n",
    "    def deposit(self, amount):\n",
    "        if amount > 0:\n",
    "            self._balance += amount\n",
    "            print(f\"{amount} is deposited, and the final balance is {self._balance}\")\n",
    "        else:\n",
    "            print(\"Deposit failed\")\n",
    "\n",
    "    def withdraw(self, amount):\n",
    "        if amount <= self._balance:\n",
    "            self._balance -= amount\n",
    "            print(f\"{amount} is withdrawn, the final balance is {self._balance}\")\n",
    "        else:\n",
    "            print(\"Withdraw failed (insufficient balance)\")\n",
    "\n",
    "    def check_balance(self):\n",
    "        return self._balance\n",
    "\n",
    "\n",
    "# Subclass\n",
    "class SavingsAccount(BankAccount):\n",
    "    def __init__(self, acc_holder, balance=0, overdraft_limit=1000):\n",
    "        super().__init__(acc_holder, balance)\n",
    "        self.overdraft_limit = overdraft_limit\n",
    "\n",
    "    def withdraw(self, amount):\n",
    "        if amount <= self._balance + self.overdraft_limit:\n",
    "            self._balance -= amount\n",
    "            print(f\"{amount} is withdrawn, the final balance is {self._balance}\")\n",
    "        else:\n",
    "            print(\"Withdraw failed (exceeded overdraft limit)\")\n",
    "\n",
    "\n",
    "# --- Testing the Code ---\n",
    "\n",
    "# Basic account\n",
    "basic_acc = BankAccount(\"Yashu\", 10000)\n",
    "basic_acc.deposit(1000)\n",
    "basic_acc.withdraw(1000)\n",
    "# Removed the faulty line: basic_acc.deposit(2000, \" INR \")  # deposit doesn't take currency as 2nd argument\n",
    "\n",
    "# Savings account\n",
    "sav_acc = SavingsAccount(\"Yashu\", balance=50000, overdraft_limit=2000)\n",
    "sav_acc.withdraw(4000)\n",
    "sav_acc.withdraw(4000)\n"
   ],
   "outputs": [
    {
     "name": "stdout",
     "output_type": "stream",
     "text": [
      "1000 is deposited, and the final balance is 11000\n",
      "1000 is withdrawn, the final balance is 10000\n",
      "4000 is withdrawn, the final balance is 46000\n",
      "4000 is withdrawn, the final balance is 42000\n"
     ]
    }
   ],
   "execution_count": 7
  },
  {
   "metadata": {},
   "cell_type": "code",
   "outputs": [],
   "execution_count": null,
   "source": "",
   "id": "e3a4ab8e4619676"
  }
 ],
 "metadata": {
  "kernelspec": {
   "display_name": "Python 3",
   "language": "python",
   "name": "python3"
  },
  "language_info": {
   "codemirror_mode": {
    "name": "ipython",
    "version": 2
   },
   "file_extension": ".py",
   "mimetype": "text/x-python",
   "name": "python",
   "nbconvert_exporter": "python",
   "pygments_lexer": "ipython2",
   "version": "2.7.6"
  }
 },
 "nbformat": 4,
 "nbformat_minor": 5
}
