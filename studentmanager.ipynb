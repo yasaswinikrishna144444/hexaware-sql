{
 "cells": [
  {
   "metadata": {},
   "cell_type": "markdown",
   "source": [
    "# This is a sample Jupyter Notebook\n",
    "\n",
    "Below is an example of a code cell. \n",
    "Put your cursor into the cell and press Shift+Enter to execute it and select the next one, or click 'Run Cell' button.\n",
    "\n",
    "Press Double Shift to search everywhere for classes, files, tool windows, actions, and settings.\n",
    "\n",
    "To learn more about Jupyter Notebooks in PyCharm, see [help](https://www.jetbrains.com/help/pycharm/ipython-notebook-support.html).\n",
    "For an overview of PyCharm, go to Help -> Learn IDE features or refer to [our documentation](https://www.jetbrains.com/help/pycharm/getting-started.html)."
   ],
   "id": "8a77807f92f26ee"
  },
  {
   "metadata": {
    "ExecuteTime": {
     "end_time": "2025-06-20T05:02:36.425330Z",
     "start_time": "2025-06-20T05:02:36.411514Z"
    }
   },
   "cell_type": "code",
   "source": [
    "from pygments.lexers.prolog import PrologLexer\n",
    "\n",
    "print(\"Hello World!\")"
   ],
   "id": "fbc121e30a2defb3",
   "outputs": [
    {
     "name": "stdout",
     "output_type": "stream",
     "text": [
      "Hello World!\n"
     ]
    }
   ],
   "execution_count": 8
  },
  {
   "metadata": {
    "ExecuteTime": {
     "end_time": "2025-06-20T05:02:36.515967Z",
     "start_time": "2025-06-20T05:02:36.511389Z"
    }
   },
   "cell_type": "code",
   "source": "print(\"hello\")",
   "id": "5cf3baed192ab247",
   "outputs": [
    {
     "name": "stdout",
     "output_type": "stream",
     "text": [
      "hello\n"
     ]
    }
   ],
   "execution_count": 9
  },
  {
   "metadata": {
    "ExecuteTime": {
     "end_time": "2025-06-20T05:03:43.242406Z",
     "start_time": "2025-06-20T05:03:43.212552Z"
    }
   },
   "cell_type": "code",
   "source": [
    "class StudentManager:\n",
    "    def __init__(self):\n",
    "        self.students = {}\n",
    "\n",
    "    def addStudent(self, rollnumber, studentname, marks):\n",
    "        if rollnumber in self.students:\n",
    "            print(f\"{rollnumber} already exists\")\n",
    "        else:\n",
    "            self.students[rollnumber] = {\"studentname\": studentname, \"marks\": marks}\n",
    "            print(f\"{rollnumber} for the student {studentname} has been added\")\n",
    "\n",
    "    def getstudent(self, rollnumber):\n",
    "        if rollnumber in self.students:\n",
    "            return self.students[rollnumber]\n",
    "        else:\n",
    "            return f\"No student with rollnumber {rollnumber}\"\n",
    "\n",
    "    def gettopstudents(self, criteria):\n",
    "        topstudents = [\n",
    "            {\"rollnumber\": rollnumber, \"studentname\": data[\"studentname\"], \"marks\": data[\"marks\"]}\n",
    "            for rollnumber, data in self.students.items()\n",
    "            if data[\"marks\"] > criteria\n",
    "        ]\n",
    "        return topstudents\n",
    "\n",
    "\n",
    "# Create instance\n",
    "result = StudentManager()\n",
    "\n",
    "# Corrected variable name from 'students_dta' to 'students_data'\n",
    "students_data = [\n",
    "    {\"rollnumber\": 1234, \"studentname\": \"yashu\", \"marks\": 86},\n",
    "    {\"rollnumber\": 5678, \"studentname\": \"vasu\", \"marks\": 73},\n",
    "    {\"rollnumber\": 8234, \"studentname\": \"vimala\", \"marks\": 66},\n",
    "    {\"rollnumber\": 6745, \"studentname\": \"kunal\", \"marks\": 90},\n",
    "]\n",
    "\n",
    "# Add students\n",
    "for student in students_data:\n",
    "    result.addStudent(student[\"rollnumber\"], student[\"studentname\"], student[\"marks\"])\n",
    "\n",
    "# Print specific student\n",
    "print(result.getstudent(1234))\n",
    "\n",
    "# Get and print top students\n",
    "top_students = result.gettopstudents(76)\n",
    "print(\"Top Students:\")\n",
    "for student in top_students:\n",
    "    print(student)\n"
   ],
   "id": "de29f606f7fe3644",
   "outputs": [
    {
     "name": "stdout",
     "output_type": "stream",
     "text": [
      "1234 for the student yashu has been added\n",
      "5678 for the student vasu has been added\n",
      "8234 for the student vimala has been added\n",
      "6745 for the student kunal has been added\n",
      "{'studentname': 'yashu', 'marks': 86}\n",
      "Top Students:\n",
      "{'rollnumber': 1234, 'studentname': 'yashu', 'marks': 86}\n",
      "{'rollnumber': 6745, 'studentname': 'kunal', 'marks': 90}\n"
     ]
    }
   ],
   "execution_count": 11
  },
  {
   "metadata": {},
   "cell_type": "code",
   "outputs": [],
   "execution_count": null,
   "source": "",
   "id": "f1a9dd36f04c8204"
  },
  {
   "metadata": {},
   "cell_type": "code",
   "outputs": [],
   "execution_count": null,
   "source": "",
   "id": "d1d343727de00edf"
  }
 ],
 "metadata": {
  "kernelspec": {
   "display_name": "Python 3",
   "language": "python",
   "name": "python3"
  },
  "language_info": {
   "codemirror_mode": {
    "name": "ipython",
    "version": 2
   },
   "file_extension": ".py",
   "mimetype": "text/x-python",
   "name": "python",
   "nbconvert_exporter": "python",
   "pygments_lexer": "ipython2",
   "version": "2.7.6"
  }
 },
 "nbformat": 4,
 "nbformat_minor": 5
}
